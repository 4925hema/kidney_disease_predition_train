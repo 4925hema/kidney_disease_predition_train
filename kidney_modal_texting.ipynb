{
  "nbformat": 4,
  "nbformat_minor": 0,
  "metadata": {
    "colab": {
      "provenance": []
    },
    "kernelspec": {
      "name": "python3",
      "display_name": "Python 3"
    },
    "language_info": {
      "name": "python"
    }
  },
  "cells": [
    {
      "cell_type": "code",
      "execution_count": 9,
      "metadata": {
        "colab": {
          "base_uri": "https://localhost:8080/"
        },
        "id": "5A7ABOdq736M",
        "outputId": "d8d3cb7c-6243-411f-a100-354835e81b6e"
      },
      "outputs": [
        {
          "name": "stdout",
          "output_type": "stream",
          "text": [
            "enter id:45\n",
            "enter age:1\n",
            "enter bp:2\n",
            "enter sg:1\n",
            "enter al:2\n",
            "enter su:3\n",
            "enter pc:1\n",
            "enter pcc:2\n",
            "enter ba:3\n",
            "enter bgr:5\n",
            "enter bu:2\n",
            "enter sc:1\n",
            "enter sod:2\n",
            "enter pot:1\n",
            "enter hemo:1\n",
            "enter pcv:2\n",
            "enter wc:2\n",
            "enter htn:2\n",
            "enter dm:1\n"
          ]
        },
        {
          "output_type": "execute_result",
          "data": {
            "text/plain": [
              "[45, 1, 2, 1, 2, 3, 1, 2, 3, 5, 2, 1, 2, 1, 1, 2, 2, 2, 1]"
            ]
          },
          "metadata": {},
          "execution_count": 9
        }
      ],
      "source": [
        "labels 2\n",
        "= ['id', 'age', 'bp', 'sg', 'al', 'su', 'pc', 'pcc', 'ba', 'bgr', 'bu',\n",
        "       'sc', 'sod', 'pot', 'hemo', 'pcv', 'wc', 'htn', 'dm']\n",
        "\n",
        "inputs = []\n",
        "for lable in labels:\n",
        "  inputs.append(int(input('enter '+ lable + ':')))\n",
        "inputs"
      ]
    },
    {
      "cell_type": "code",
      "source": [
        "from keras.models import load_model\n",
        "import numpy as np\n",
        "obj = load_model('/content/kidney_disease_model (1).h5')\n",
        "\n",
        "in_array = np.array([inputs])\n",
        "result = obj.predict(in_array)\n",
        "\n",
        "if result > 0.5:\n",
        "  print(\"kidnay Disease\")\n",
        "else:\n",
        "  print(\"No Disease\")"
      ],
      "metadata": {
        "colab": {
          "base_uri": "https://localhost:8080/"
        },
        "id": "MbMBrv6-8hUr",
        "outputId": "921ae58f-3cc7-4f74-c29b-4827accdb66b"
      },
      "execution_count": 10,
      "outputs": [
        {
          "output_type": "stream",
          "name": "stderr",
          "text": [
            "WARNING:absl:Compiled the loaded model, but the compiled metrics have yet to be built. `model.compile_metrics` will be empty until you train or evaluate the model.\n"
          ]
        },
        {
          "output_type": "stream",
          "name": "stdout",
          "text": [
            "\u001b[1m1/1\u001b[0m \u001b[32m━━━━━━━━━━━━━━━━━━━━\u001b[0m\u001b[37m\u001b[0m \u001b[1m0s\u001b[0m 76ms/step\n",
            "kidnay Disease\n"
          ]
        }
      ]
    }
  ]
}